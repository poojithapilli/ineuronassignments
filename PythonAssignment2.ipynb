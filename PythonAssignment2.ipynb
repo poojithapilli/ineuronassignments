{
  "nbformat": 4,
  "nbformat_minor": 0,
  "metadata": {
    "colab": {
      "provenance": [],
      "collapsed_sections": []
    },
    "kernelspec": {
      "name": "python3",
      "display_name": "Python 3"
    },
    "language_info": {
      "name": "python"
    }
  },
  "cells": [
    {
      "cell_type": "code",
      "execution_count": 1,
      "metadata": {
        "colab": {
          "base_uri": "https://localhost:8080/"
        },
        "id": "-K4OS-24Dm1b",
        "outputId": "e78bd887-c2f3-4756-ef1b-eb289a4e69a4"
      },
      "outputs": [
        {
          "output_type": "stream",
          "name": "stdout",
          "text": [
            "Enter kilometers : 22\n",
            "miles =  13.670162\n"
          ]
        }
      ],
      "source": [
        "#1. Write a Python program to convert kilometers to miles?\n",
        "\n",
        "kilometers = float(input(\"Enter kilometers : \"))\n",
        "\n",
        "miles=0.621371*kilometers\n",
        "\n",
        "print(\"miles = \",miles)"
      ]
    },
    {
      "cell_type": "code",
      "source": [
        "#2.Write a Python program to convert Celsius to Fahrenheit?\n",
        "\n",
        "celsius = float(input(\"Enter celsius : \"))\n",
        "\n",
        "# calculate fahrenheit\n",
        "fahrenheit = (celsius * 1.8) + 32\n",
        "\n",
        "print(\"Fahrenheit =\",fahrenheit)\n"
      ],
      "metadata": {
        "colab": {
          "base_uri": "https://localhost:8080/"
        },
        "id": "upr7DHOYDuPV",
        "outputId": "ba32669c-b0c8-485f-fd05-7951dc6da1c1"
      },
      "execution_count": 2,
      "outputs": [
        {
          "output_type": "stream",
          "name": "stdout",
          "text": [
            "Enter celsius : 38.2\n",
            "Fahrenheit = 100.76\n"
          ]
        }
      ]
    },
    {
      "cell_type": "code",
      "source": [
        "#3. Write a Python program to display calendar?\n",
        "\n",
        "import calendar\n",
        "year = 2022\n",
        "month = 9\n",
        "print(calendar.month(year, month))\n",
        "\n"
      ],
      "metadata": {
        "colab": {
          "base_uri": "https://localhost:8080/"
        },
        "id": "67Z7IIzIDzuw",
        "outputId": "5dad3960-0539-4103-d32f-7b5f27dda5d1"
      },
      "execution_count": 4,
      "outputs": [
        {
          "output_type": "stream",
          "name": "stdout",
          "text": [
            "   September 2022\n",
            "Mo Tu We Th Fr Sa Su\n",
            "          1  2  3  4\n",
            " 5  6  7  8  9 10 11\n",
            "12 13 14 15 16 17 18\n",
            "19 20 21 22 23 24 25\n",
            "26 27 28 29 30\n",
            "\n"
          ]
        }
      ]
    },
    {
      "cell_type": "code",
      "source": [
        "#4. Write a Python program to solve quadratic equation?\n",
        "\n",
        "import cmath  \n",
        "a = float(input('Enter a: '))  \n",
        "b = float(input('Enter b: '))  \n",
        "c = float(input('Enter c: '))  \n",
        "    \n",
        "d = (b**2) - (4*a*c)  \n",
        "    \n",
        "sol1 = (-b-cmath.sqrt(d))/(2*a)  \n",
        "sol2 = (-b+cmath.sqrt(d))/(2*a)  \n",
        "print('The solution are {0} and {1}'.format(sol1,sol2))   \n"
      ],
      "metadata": {
        "colab": {
          "base_uri": "https://localhost:8080/"
        },
        "id": "91GaLzBOD0Ao",
        "outputId": "50514558-130f-484c-b921-1504e04649df"
      },
      "execution_count": 8,
      "outputs": [
        {
          "output_type": "stream",
          "name": "stdout",
          "text": [
            "Enter a: 2\n",
            "Enter b: 4\n",
            "Enter c: 1\n",
            "The solution are (-1.7071067811865475+0j) and (-0.2928932188134524+0j)\n"
          ]
        }
      ]
    },
    {
      "cell_type": "code",
      "source": [
        "#5. Write a Python program to swap two variables without temp variable?\n",
        "\n",
        "a=3\n",
        "b=5\n",
        "\n",
        "a=a+b\n",
        "b=a-b\n",
        "a=a-b\n",
        "\n",
        "print(\"a=\",a)\n",
        "print(\"b=\",b)"
      ],
      "metadata": {
        "colab": {
          "base_uri": "https://localhost:8080/"
        },
        "id": "X1QjWsgAD0OJ",
        "outputId": "838a4b96-b4aa-480a-b032-d4d412231089"
      },
      "execution_count": 9,
      "outputs": [
        {
          "output_type": "stream",
          "name": "stdout",
          "text": [
            "a= 5\n",
            "b= 3\n"
          ]
        }
      ]
    }
  ]
}