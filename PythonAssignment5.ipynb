{
  "nbformat": 4,
  "nbformat_minor": 0,
  "metadata": {
    "colab": {
      "provenance": [],
      "collapsed_sections": []
    },
    "kernelspec": {
      "name": "python3",
      "display_name": "Python 3"
    },
    "language_info": {
      "name": "python"
    }
  },
  "cells": [
    {
      "cell_type": "code",
      "execution_count": 1,
      "metadata": {
        "colab": {
          "base_uri": "https://localhost:8080/"
        },
        "id": "xvuQxkOlWJoO",
        "outputId": "3d12afa0-7fae-47de-f6bd-96915730e6af"
      },
      "outputs": [
        {
          "output_type": "stream",
          "name": "stdout",
          "text": [
            "Enter first number: 4\n",
            "Enter second number: 6\n",
            "The L.C.M. of 4 and 6 is 12\n"
          ]
        }
      ],
      "source": [
        "#1. Write a Python Program to Find LCM?\n",
        "\n",
        "def calculate_lcm(x, y):   \n",
        "    if x > y:  \n",
        "        greater = x  \n",
        "    else:  \n",
        "        greater = y  \n",
        "    while(True):  \n",
        "        if((greater % x == 0) and (greater % y == 0)):  \n",
        "            lcm = greater  \n",
        "            break  \n",
        "        greater += 1  \n",
        "    return lcm    \n",
        "  \n",
        "num1 = int(input(\"Enter first number: \"))  \n",
        "num2 = int(input(\"Enter second number: \"))  \n",
        "print(\"The L.C.M. of\", num1,\"and\", num2,\"is\", calculate_lcm(num1, num2))  \n"
      ]
    },
    {
      "cell_type": "code",
      "source": [
        "#2. Write a Python Program to Find HCF?\n",
        "\n",
        "def compute_hcf(x, y):\n",
        "    if x > y:\n",
        "        smaller = y\n",
        "    else:\n",
        "        smaller = x\n",
        "    for i in range(1, smaller+1):\n",
        "        if((x % i == 0) and (y % i == 0)):\n",
        "            hcf = i \n",
        "    return hcf\n",
        "\n",
        "num1 = int(input(\"Enter first number: \"))  \n",
        "num2 = int(input(\"Enter second number: \")) \n",
        "\n",
        "print(\"The H.C.F. is\", compute_hcf(num1, num2))\n",
        "\n",
        "\n"
      ],
      "metadata": {
        "colab": {
          "base_uri": "https://localhost:8080/"
        },
        "id": "gZVfo1hTWNYv",
        "outputId": "e549ccc3-07c0-4496-b338-3dfc8d9373b3"
      },
      "execution_count": 2,
      "outputs": [
        {
          "output_type": "stream",
          "name": "stdout",
          "text": [
            "Enter first number: 6\n",
            "Enter second number: 9\n",
            "The H.C.F. is 3\n"
          ]
        }
      ]
    },
    {
      "cell_type": "code",
      "source": [
        "#3. Write a Python Program to Convert Decimal to Binary, Octal and Hexadecimal?\n",
        "\n",
        "dec = int(input(\"Enter a number : \"))\n",
        "\n",
        "print(\"The decimal value of\", dec, \"is:\")\n",
        "print(bin(dec), \"in binary.\")\n",
        "print(oct(dec), \"in octal.\")\n",
        "print(hex(dec), \"in hexadecimal.\")\n",
        "\n"
      ],
      "metadata": {
        "colab": {
          "base_uri": "https://localhost:8080/"
        },
        "id": "pj_syw8mWNkk",
        "outputId": "521fdd33-09e1-4baf-a792-2f241892a019"
      },
      "execution_count": 3,
      "outputs": [
        {
          "output_type": "stream",
          "name": "stdout",
          "text": [
            "Enter a number : 8\n",
            "The decimal value of 8 is:\n",
            "0b1000 in binary.\n",
            "0o10 in octal.\n",
            "0x8 in hexadecimal.\n"
          ]
        }
      ]
    },
    {
      "cell_type": "code",
      "source": [
        "#4. Write a Python Program To Find ASCII value of a character?\n",
        "\n",
        "c = input(\"Enter a character:\")\n",
        "print(\"The ASCII value of '\" + c + \"' is\", ord(c))\n",
        "\n"
      ],
      "metadata": {
        "colab": {
          "base_uri": "https://localhost:8080/"
        },
        "id": "Ducmgrx5WNsA",
        "outputId": "f675f0ae-78dc-4e80-810c-5a941cb48ebb"
      },
      "execution_count": 4,
      "outputs": [
        {
          "output_type": "stream",
          "name": "stdout",
          "text": [
            "Enter a character:i\n",
            "The ASCII value of 'i' is 105\n"
          ]
        }
      ]
    },
    {
      "cell_type": "code",
      "source": [
        "#5. Write a Python Program to Make a Simple Calculator with 4 basic mathematical operations?\n",
        "\n",
        "print('''please Select the Operation you  want to Perfom\n",
        "      1 = Add\n",
        "      2 = Subtract\n",
        "      3 = Multiply\n",
        "      4 = Divide''')\n",
        "      \n",
        "opt = int(input(\"Choose Operation from 1, 2, 3, 4 = \"))\n",
        "\n",
        "n1 = int(input(\"First Number        = \"))\n",
        "n2 = int(input(\"Second Number = \"))\n",
        "\n",
        "if opt == 1:\n",
        "    print(n1, ' + ', n2, '  =  ', n1 +  n2)\n",
        "elif opt == 2:\n",
        "    print(n1, ' - ', n2, '  =  ', n1 -  n2)\n",
        "elif opt == 3:\n",
        "    print(n1, ' * ', n2, '  =  ', n1 *  n2)\n",
        "elif opt == 4:\n",
        "    print(n1, ' / ', n2, '  =  ', n1 /  n2)\n",
        "else:\n",
        "    print('Invalid Input')\n"
      ],
      "metadata": {
        "colab": {
          "base_uri": "https://localhost:8080/"
        },
        "id": "kaiSAmFzWN8d",
        "outputId": "bc07eec6-76b5-422c-a797-5b0a693f6c09"
      },
      "execution_count": 5,
      "outputs": [
        {
          "output_type": "stream",
          "name": "stdout",
          "text": [
            "please Select the Operation you  want to Perfom\n",
            "      1 = Add\n",
            "      2 = Subtract\n",
            "      3 = Multiply\n",
            "      4 = Divide\n",
            "Choose Operation from 1, 2, 3, 4 = 3\n",
            "First Number        = 5\n",
            "Second Number = 6\n",
            "5  *  6   =   30\n"
          ]
        }
      ]
    }
  ]
}