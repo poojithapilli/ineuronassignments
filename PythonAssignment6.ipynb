{
  "nbformat": 4,
  "nbformat_minor": 0,
  "metadata": {
    "colab": {
      "provenance": [],
      "collapsed_sections": []
    },
    "kernelspec": {
      "name": "python3",
      "display_name": "Python 3"
    },
    "language_info": {
      "name": "python"
    }
  },
  "cells": [
    {
      "cell_type": "code",
      "execution_count": 2,
      "metadata": {
        "colab": {
          "base_uri": "https://localhost:8080/"
        },
        "id": "n__nZcdufYNV",
        "outputId": "7cdd4a71-2aa4-4a7a-e9e0-4d1791b83e30"
      },
      "outputs": [
        {
          "output_type": "stream",
          "name": "stdout",
          "text": [
            "Enter number of terms required : 7\n",
            "Fibonacci sequence:\n",
            "0\n",
            "1\n",
            "1\n",
            "2\n",
            "3\n",
            "5\n",
            "8\n"
          ]
        }
      ],
      "source": [
        "#1. Write a Python Program to Display Fibonacci Sequence Using Recursion?\n",
        "\n",
        "def recur_fibo(n):\n",
        "   if n <= 1:\n",
        "       return n\n",
        "   else:\n",
        "       return(recur_fibo(n-1) + recur_fibo(n-2))\n",
        "\n",
        "nterms = int(input(\"Enter number of terms required : \"))\n",
        "\n",
        "if nterms <= 0:\n",
        "   print(\"Plese enter a positive integer\")\n",
        "else:\n",
        "   print(\"Fibonacci sequence:\")\n",
        "   for i in range(nterms):\n",
        "       print(recur_fibo(i))\n"
      ]
    },
    {
      "cell_type": "code",
      "source": [
        "#2. Write a Python Program to Find Factorial of Number Using Recursion?\n",
        "\n",
        "def recur_factorial(n):\n",
        "   if n == 1:\n",
        "       return n\n",
        "   else:\n",
        "       return n*recur_factorial(n-1)\n",
        "num = int(input(\"Enter a number : \"))\n",
        "if num < 0:\n",
        "   print(\"Sorry, factorial does not exist for negative numbers\")\n",
        "elif num == 0:\n",
        "   print(\"The factorial of 0 is 1\")\n",
        "else:\n",
        "   print(\"The factorial of\", num, \"is\", recur_factorial(num))\n"
      ],
      "metadata": {
        "colab": {
          "base_uri": "https://localhost:8080/"
        },
        "id": "GedGWxswfdH_",
        "outputId": "69fc28c5-e58e-42dd-9637-2278bced3411"
      },
      "execution_count": 3,
      "outputs": [
        {
          "output_type": "stream",
          "name": "stdout",
          "text": [
            "Enter a number : 7\n",
            "The factorial of 7 is 5040\n"
          ]
        }
      ]
    },
    {
      "cell_type": "code",
      "source": [
        "#3. Write a Python Program to calculate your Body Mass Index?\n",
        "\n",
        "the_height = float(input(\"Enter the height in cm: \"))  \n",
        "the_weight = float(input(\"Enter the weight in kg: \"))  \n",
        "the_BMI = the_weight / (the_height/100)**2  \n",
        "print(\"Your Body Mass Index is\", the_BMI)  "
      ],
      "metadata": {
        "colab": {
          "base_uri": "https://localhost:8080/"
        },
        "id": "OsT900aYfdQ-",
        "outputId": "42c23d54-d6fa-4dce-c8c1-519ef82b7311"
      },
      "execution_count": 5,
      "outputs": [
        {
          "output_type": "stream",
          "name": "stdout",
          "text": [
            "Enter the height in cm: 180\n",
            "Enter the weight in kg: 60\n",
            "Your Body Mass Index is 18.51851851851852\n"
          ]
        }
      ]
    },
    {
      "cell_type": "code",
      "source": [
        "#4. Write a Python Program to calculate the natural logarithm of any number?\n",
        "\n",
        "import math\n",
        "\n",
        "number = int(input(\"Enter the number: \"))\n",
        "\n",
        "ans = math.log(number)\n",
        "\n",
        "print(\"The log value is :\",ans)\n",
        "\n"
      ],
      "metadata": {
        "colab": {
          "base_uri": "https://localhost:8080/"
        },
        "id": "jshFDbIufdV2",
        "outputId": "bb29f991-ed50-467f-97be-d2b04e403fc7"
      },
      "execution_count": 7,
      "outputs": [
        {
          "output_type": "stream",
          "name": "stdout",
          "text": [
            "Enter the number: 6\n",
            "The log value is : 1.791759469228055\n"
          ]
        }
      ]
    },
    {
      "cell_type": "code",
      "source": [
        "#5. Write a Python Program for cube sum of first n natural numbers?\n",
        "\n",
        "def CubeSum(n):\n",
        "    s=0\n",
        "    for i in range(n+1):\n",
        "        s+=i**3\n",
        "    return s\n",
        "n=int(input(\"enter n: \"))\n",
        "print(\"sum of cubes of first {} natural numbers: \".format(n),CubeSum(n))\n",
        "\n"
      ],
      "metadata": {
        "colab": {
          "base_uri": "https://localhost:8080/"
        },
        "id": "2WOe5UNwfdfi",
        "outputId": "9bb8fad3-72aa-4c2c-dd60-00058667c00c"
      },
      "execution_count": 8,
      "outputs": [
        {
          "output_type": "stream",
          "name": "stdout",
          "text": [
            "enter n: 10\n",
            "sum of cubes of first 10 natural numbers:  3025\n"
          ]
        }
      ]
    }
  ]
}