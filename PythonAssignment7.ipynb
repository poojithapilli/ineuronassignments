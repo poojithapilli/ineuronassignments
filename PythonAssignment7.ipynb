{
  "nbformat": 4,
  "nbformat_minor": 0,
  "metadata": {
    "colab": {
      "provenance": [],
      "collapsed_sections": []
    },
    "kernelspec": {
      "name": "python3",
      "display_name": "Python 3"
    },
    "language_info": {
      "name": "python"
    }
  },
  "cells": [
    {
      "cell_type": "code",
      "execution_count": 1,
      "metadata": {
        "colab": {
          "base_uri": "https://localhost:8080/"
        },
        "id": "wINRcR4c7GvT",
        "outputId": "95ad087a-b31e-4e92-daa9-39a68a1e6147"
      },
      "outputs": [
        {
          "output_type": "stream",
          "name": "stdout",
          "text": [
            "Sum of the array is  26\n",
            "Sum of the array is  26\n"
          ]
        }
      ],
      "source": [
        "#1. Write a Python Program to find sum of array?\n",
        "\n",
        "import array as ar\n",
        "\n",
        "def SumofArray(arr):\n",
        "    sum=0\n",
        "    n = len(arr)\n",
        "    for i in range(n):\n",
        "        sum = sum + arr[i]\n",
        "    return sum\n",
        "a = ar.array('i',[5,6,7,8])\n",
        "print ('Sum of the array is ', SumofArray(a) ) \n",
        "print ('Sum of the array is ', sum(a) ) \n"
      ]
    },
    {
      "cell_type": "code",
      "source": [
        "#2. Write a Python Program to find largest element in an array?\n",
        "\n",
        "arr = [25, 11, 7, 75, 56]   \n",
        "m = arr[0]    \n",
        "for i in range(0, len(arr)):    \n",
        "   if(arr[i] > m):    \n",
        "       m = arr[i]     \n",
        "print(\"Largest element present in given array: \" + str(m)) "
      ],
      "metadata": {
        "colab": {
          "base_uri": "https://localhost:8080/"
        },
        "id": "kwYzDrzy7LEl",
        "outputId": "616ac5e5-3967-4d60-8977-69426656a670"
      },
      "execution_count": 9,
      "outputs": [
        {
          "output_type": "stream",
          "name": "stdout",
          "text": [
            "Largest element present in given array: 75\n"
          ]
        }
      ]
    },
    {
      "cell_type": "code",
      "source": [
        "#3. Write a Python Program for array rotation?\n",
        "\n",
        "def rotateArray(a,d):\n",
        "    temp = []\n",
        "    n=len(a)\n",
        "    for i in range(d,n):\n",
        "        temp.append(a[i])\n",
        "    i = 0\n",
        "    for i in range (0,d):\n",
        "        temp.append(a[i])\n",
        "    a=temp.copy()\n",
        "    return a\n",
        " \n",
        "arr = [1, 2, 3, 4, 5, 6, 7]\n",
        "print(\"Array after rotation is: \", end=' ')\n",
        "print(rotateArray(arr, 2))\n"
      ],
      "metadata": {
        "colab": {
          "base_uri": "https://localhost:8080/"
        },
        "id": "DjU1VKUb7LLc",
        "outputId": "ab970229-7960-4606-f689-60e8ead0e7ef"
      },
      "execution_count": 10,
      "outputs": [
        {
          "output_type": "stream",
          "name": "stdout",
          "text": [
            "Array after rotation is:  [3, 4, 5, 6, 7, 1, 2]\n"
          ]
        }
      ]
    },
    {
      "cell_type": "code",
      "source": [
        "#4. Write a Python Program to Split the array and add the first part to the end?\n",
        "\n",
        "def SplitArray(arr, n, k):\n",
        "\tfor i in range(0, k):\n",
        "\t\tx = arr[0]\n",
        "\t\tfor j in range(0, n-1):\n",
        "\t\t\tarr[j] = arr[j + 1]\n",
        "\t\t\n",
        "\t\tarr[n-1] = x\t\t\n",
        "arr = [15, 40, 14, 16, 50, 36]\n",
        "n = len(arr)\n",
        "position = 3\n",
        "SplitArray(arr, n, position)\n",
        "for i in range(0, n):\n",
        "\tprint(arr[i], end = ' ')\n"
      ],
      "metadata": {
        "colab": {
          "base_uri": "https://localhost:8080/"
        },
        "id": "u8eAy7fW7LTf",
        "outputId": "a63b43d5-36d9-4d60-8d83-187360879d20"
      },
      "execution_count": 12,
      "outputs": [
        {
          "output_type": "stream",
          "name": "stdout",
          "text": [
            "16 50 36 15 40 14 "
          ]
        }
      ]
    },
    {
      "cell_type": "code",
      "source": [
        "#5. Write a Python Program to check if given array is Monotonic?\n",
        "\n",
        "user_array = list()\n",
        "def is_monotonic(arr):\n",
        "  if all(arr[i] <= arr[i + 1] for i in range(len(arr) - 1)): \n",
        "    return \"monotone increasing\"\n",
        "  elif all(arr[i] >= arr[i + 1] for i in range(len(arr) - 1)):\n",
        "    return \"monotone decreasing\"\n",
        "  return \"not monotonic array\"\n",
        "size = int(input(\"Enter the size of the array : \"))\n",
        "for i in range(size):\n",
        "    n = int(input(\"Enter value for position {} : \".format(i)))\n",
        "    user_array.append(n)\n",
        "print(\"Input array is \"+is_monotonic(user_array))"
      ],
      "metadata": {
        "colab": {
          "base_uri": "https://localhost:8080/"
        },
        "id": "fExgUFQd7Lbq",
        "outputId": "a7594759-5536-4d89-efc1-064b110fd42d"
      },
      "execution_count": 13,
      "outputs": [
        {
          "output_type": "stream",
          "name": "stdout",
          "text": [
            "Enter the size of the array : 5\n",
            "Enter value for position 0 : 2\n",
            "Enter value for position 1 : 5\n",
            "Enter value for position 2 : 8\n",
            "Enter value for position 3 : 12\n",
            "Enter value for position 4 : 45\n",
            "Input array is monotone increasing\n"
          ]
        }
      ]
    }
  ]
}